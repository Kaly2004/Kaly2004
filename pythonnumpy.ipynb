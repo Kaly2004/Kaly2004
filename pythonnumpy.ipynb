{
  "nbformat": 4,
  "nbformat_minor": 0,
  "metadata": {
    "colab": {
      "provenance": [],
      "authorship_tag": "ABX9TyOCljG9s1QDlhTHRM5aAsO6",
      "include_colab_link": true
    },
    "kernelspec": {
      "name": "python3",
      "display_name": "Python 3"
    },
    "language_info": {
      "name": "python"
    }
  },
  "cells": [
    {
      "cell_type": "markdown",
      "metadata": {
        "id": "view-in-github",
        "colab_type": "text"
      },
      "source": [
        "<a href=\"https://colab.research.google.com/github/Kaly2004/Kaly2004/blob/main/pythonnumpy.ipynb\" target=\"_parent\"><img src=\"https://colab.research.google.com/assets/colab-badge.svg\" alt=\"Open In Colab\"/></a>"
      ]
    },
    {
      "cell_type": "code",
      "execution_count": null,
      "metadata": {
        "colab": {
          "base_uri": "https://localhost:8080/",
          "height": 36
        },
        "id": "CdH_YmbmfhC-",
        "outputId": "a3738cac-f3ae-4204-aa88-52dadeb606a2"
      },
      "outputs": [
        {
          "output_type": "execute_result",
          "data": {
            "text/plain": [
              "'1.26.4'"
            ],
            "application/vnd.google.colaboratory.intrinsic+json": {
              "type": "string"
            }
          },
          "metadata": {},
          "execution_count": 2
        }
      ],
      "source": [
        "import numpy as np\n",
        "np.__version__"
      ]
    },
    {
      "cell_type": "code",
      "source": [
        "import numpy as np\n",
        "np.array([1,2,3,4])"
      ],
      "metadata": {
        "colab": {
          "base_uri": "https://localhost:8080/"
        },
        "id": "1eHhJmA5f5_H",
        "outputId": "ebdda7ea-d17c-4f56-846b-ddbfaf00f9ff"
      },
      "execution_count": null,
      "outputs": [
        {
          "output_type": "execute_result",
          "data": {
            "text/plain": [
              "array([1, 2, 3, 4])"
            ]
          },
          "metadata": {},
          "execution_count": 4
        }
      ]
    },
    {
      "cell_type": "markdown",
      "source": [
        "import numpy is used for import numerical value.\n",
        "call np to activate the function"
      ],
      "metadata": {
        "id": "XMwJtsK2gQmP"
      }
    },
    {
      "cell_type": "code",
      "source": [
        "a=np.array([1,2,3,4])\n",
        "b=np.array([4,3,2,1])\n",
        "a+b\n",
        "type(a)\n",
        "type(b)"
      ],
      "metadata": {
        "colab": {
          "base_uri": "https://localhost:8080/"
        },
        "id": "mHcHd9ebgoto",
        "outputId": "31282781-147a-423f-8e57-727f5dbccda7"
      },
      "execution_count": null,
      "outputs": [
        {
          "output_type": "execute_result",
          "data": {
            "text/plain": [
              "numpy.ndarray"
            ]
          },
          "metadata": {},
          "execution_count": 7
        }
      ]
    },
    {
      "cell_type": "code",
      "source": [
        "arr=np.array([1,2,3,4])\n",
        "arr.dtype\n",
        "\n"
      ],
      "metadata": {
        "colab": {
          "base_uri": "https://localhost:8080/"
        },
        "id": "uSF2JFtqh2ek",
        "outputId": "34ddfa5d-0e8c-4404-c70e-12e4563941b9"
      },
      "execution_count": null,
      "outputs": [
        {
          "output_type": "execute_result",
          "data": {
            "text/plain": [
              "dtype('int64')"
            ]
          },
          "metadata": {},
          "execution_count": 13
        }
      ]
    },
    {
      "cell_type": "code",
      "source": [
        "arr=np.array([1,3,4,5,2+3j])\n",
        "print(arr)\n",
        "print(arr.shape)\n",
        "print(arr.dtype)\n"
      ],
      "metadata": {
        "colab": {
          "base_uri": "https://localhost:8080/"
        },
        "id": "mMGURBTjmSXX",
        "outputId": "292ef7e2-e7f2-4b91-d402-86ffb395b1cb"
      },
      "execution_count": null,
      "outputs": [
        {
          "output_type": "stream",
          "name": "stdout",
          "text": [
            "[1.+0.j 3.+0.j 4.+0.j 5.+0.j 2.+3.j]\n",
            "(5,)\n",
            "complex128\n"
          ]
        }
      ]
    },
    {
      "cell_type": "code",
      "source": [
        "arr=np.array([1,3.5,4,5,2+3j])\n",
        "print(arr)\n",
        "print(arr.shape)\n",
        "print(arr.dtype)"
      ],
      "metadata": {
        "colab": {
          "base_uri": "https://localhost:8080/"
        },
        "id": "B45S4FDcnQxD",
        "outputId": "153b4ac5-d20b-4f42-809d-382e02dcba40"
      },
      "execution_count": null,
      "outputs": [
        {
          "output_type": "stream",
          "name": "stdout",
          "text": [
            "[1. +0.j 3.5+0.j 4. +0.j 5. +0.j 2. +3.j]\n",
            "(5,)\n",
            "complex128\n"
          ]
        }
      ]
    },
    {
      "cell_type": "code",
      "source": [
        "arr=np.array( [1,3,4.5,5,2+3j, True] )\n",
        "print(arr)\n",
        "print(arr.shape)\n",
        "print(arr.dtype)"
      ],
      "metadata": {
        "colab": {
          "base_uri": "https://localhost:8080/"
        },
        "id": "XlqyQkY0n4AT",
        "outputId": "dbc38b2b-c12a-4254-9e0b-3994e91d5270"
      },
      "execution_count": null,
      "outputs": [
        {
          "output_type": "stream",
          "name": "stdout",
          "text": [
            "[1. +0.j 3. +0.j 4.5+0.j 5. +0.j 2. +3.j 1. +0.j]\n",
            "(6,)\n",
            "complex128\n"
          ]
        }
      ]
    },
    {
      "cell_type": "code",
      "source": [
        "arr=np.array( [1,3,4.5,5,2+3j, False] )\n",
        "print(arr)\n",
        "print(arr.shape)\n",
        "print(arr.dtype)"
      ],
      "metadata": {
        "colab": {
          "base_uri": "https://localhost:8080/"
        },
        "id": "sp6JxX-Gq7k8",
        "outputId": "15b3286e-23aa-43dd-d2d5-ee4e4aa46e8d"
      },
      "execution_count": null,
      "outputs": [
        {
          "output_type": "stream",
          "name": "stdout",
          "text": [
            "[1. +0.j 3. +0.j 4.5+0.j 5. +0.j 2. +3.j 0. +0.j]\n",
            "(6,)\n",
            "complex128\n"
          ]
        }
      ]
    },
    {
      "cell_type": "code",
      "source": [
        "arr=np.array([1,3,4.5,5,2+3j,True,\"abhi\"])\n",
        "print(arr)\n",
        "print(arr.shape)\n",
        "print(arr.dtype)"
      ],
      "metadata": {
        "colab": {
          "base_uri": "https://localhost:8080/"
        },
        "id": "LU4uFQ-Gsd3u",
        "outputId": "e90dcbe9-64dc-4027-af89-16b57149118b"
      },
      "execution_count": null,
      "outputs": [
        {
          "output_type": "stream",
          "name": "stdout",
          "text": [
            "['1' '3' '4.5' '5' '(2+3j)' 'True' 'abhi']\n",
            "(7,)\n",
            "<U64\n"
          ]
        }
      ]
    },
    {
      "cell_type": "code",
      "source": [
        "import numpy as np\n",
        "arr=np.array( [ [1,2,3] , [4,5,6] , [8,None,None] ] )\n",
        "arr\n"
      ],
      "metadata": {
        "colab": {
          "base_uri": "https://localhost:8080/"
        },
        "id": "UoxTSfrk8aZk",
        "outputId": "14729c34-bab4-4648-8a24-4dcfca270087"
      },
      "execution_count": 11,
      "outputs": [
        {
          "output_type": "execute_result",
          "data": {
            "text/plain": [
              "array([[1, 2, 3],\n",
              "       [4, 5, 6],\n",
              "       [8, None, None]], dtype=object)"
            ]
          },
          "metadata": {},
          "execution_count": 11
        }
      ]
    },
    {
      "cell_type": "code",
      "source": [
        "arr.shape"
      ],
      "metadata": {
        "colab": {
          "base_uri": "https://localhost:8080/"
        },
        "id": "JcyXmRWn_EbD",
        "outputId": "fe8f61f9-55cf-447b-973e-932a0efe7211"
      },
      "execution_count": 12,
      "outputs": [
        {
          "output_type": "execute_result",
          "data": {
            "text/plain": [
              "(3, 3)"
            ]
          },
          "metadata": {},
          "execution_count": 12
        }
      ]
    },
    {
      "cell_type": "code",
      "source": [
        "np.ones( (2,4) )\n",
        "np.zeros( (2,4) )"
      ],
      "metadata": {
        "colab": {
          "base_uri": "https://localhost:8080/"
        },
        "id": "dIp6b9Ea_Jma",
        "outputId": "4f5624eb-4ff0-41b8-ea63-44564b7b9185"
      },
      "execution_count": 19,
      "outputs": [
        {
          "output_type": "execute_result",
          "data": {
            "text/plain": [
              "array([[0., 0., 0., 0.],\n",
              "       [0., 0., 0., 0.]])"
            ]
          },
          "metadata": {},
          "execution_count": 19
        }
      ]
    },
    {
      "cell_type": "code",
      "source": [
        "import numpy as np\n",
        "arr=np.array( [[1,2,3,4,5], [5,6,7,8,9] ,[10,11,12,13,14] ,[15,16,17,18,19] ] )\n",
        "arr\n"
      ],
      "metadata": {
        "colab": {
          "base_uri": "https://localhost:8080/"
        },
        "id": "IOCSoe0jAys6",
        "outputId": "e3c04331-8490-431f-8272-03db9112c12c"
      },
      "execution_count": 36,
      "outputs": [
        {
          "output_type": "execute_result",
          "data": {
            "text/plain": [
              "array([[ 1,  2,  3,  4,  5],\n",
              "       [ 5,  6,  7,  8,  9],\n",
              "       [10, 11, 12, 13, 14],\n",
              "       [15, 16, 17, 18, 19]])"
            ]
          },
          "metadata": {},
          "execution_count": 36
        }
      ]
    },
    {
      "cell_type": "code",
      "source": [],
      "metadata": {
        "id": "BnMgGkYeDykt"
      },
      "execution_count": null,
      "outputs": []
    },
    {
      "cell_type": "code",
      "source": [
        "\n",
        "arr.min()\n"
      ],
      "metadata": {
        "colab": {
          "base_uri": "https://localhost:8080/"
        },
        "id": "99D9RZj9DiDj",
        "outputId": "4f1de720-89c9-48db-8b2a-ef61afcb1f78"
      },
      "execution_count": 37,
      "outputs": [
        {
          "output_type": "execute_result",
          "data": {
            "text/plain": [
              "1"
            ]
          },
          "metadata": {},
          "execution_count": 37
        }
      ]
    },
    {
      "cell_type": "code",
      "source": [
        "\n",
        "arr.sum()"
      ],
      "metadata": {
        "colab": {
          "base_uri": "https://localhost:8080/"
        },
        "id": "wkqSC8WKD1O5",
        "outputId": "3b66bdc2-ffe3-41a1-f30f-388e0272e41b"
      },
      "execution_count": 38,
      "outputs": [
        {
          "output_type": "execute_result",
          "data": {
            "text/plain": [
              "195"
            ]
          },
          "metadata": {},
          "execution_count": 38
        }
      ]
    },
    {
      "cell_type": "code",
      "source": [
        "\n",
        "arr.mean()"
      ],
      "metadata": {
        "colab": {
          "base_uri": "https://localhost:8080/"
        },
        "id": "YjZRflMyD5Th",
        "outputId": "a4d4b5e2-0f7f-4fff-f56d-885ac30370dc"
      },
      "execution_count": 34,
      "outputs": [
        {
          "output_type": "execute_result",
          "data": {
            "text/plain": [
              "9.75"
            ]
          },
          "metadata": {},
          "execution_count": 34
        }
      ]
    },
    {
      "cell_type": "code",
      "source": [
        "\n",
        "arr.std()"
      ],
      "metadata": {
        "colab": {
          "base_uri": "https://localhost:8080/"
        },
        "id": "PJ7AjJtND_E4",
        "outputId": "bffed91e-a021-4426-9066-a2a3841bf915"
      },
      "execution_count": 35,
      "outputs": [
        {
          "output_type": "execute_result",
          "data": {
            "text/plain": [
              "5.448623679425842"
            ]
          },
          "metadata": {},
          "execution_count": 35
        }
      ]
    },
    {
      "cell_type": "code",
      "source": [
        "arr.max()"
      ],
      "metadata": {
        "colab": {
          "base_uri": "https://localhost:8080/"
        },
        "id": "35JZ4uB5E-_s",
        "outputId": "9416f0fb-5f10-4bee-8d13-e7ef0fd84bc0"
      },
      "execution_count": 39,
      "outputs": [
        {
          "output_type": "execute_result",
          "data": {
            "text/plain": [
              "19"
            ]
          },
          "metadata": {},
          "execution_count": 39
        }
      ]
    },
    {
      "cell_type": "code",
      "source": [
        "for row in arr:\n",
        "  print(row)\n",
        "  print(row.sum())"
      ],
      "metadata": {
        "colab": {
          "base_uri": "https://localhost:8080/"
        },
        "id": "0xgnH_vGFwZx",
        "outputId": "eb6d09b0-8320-462a-f0b3-932a23422542"
      },
      "execution_count": 41,
      "outputs": [
        {
          "output_type": "stream",
          "name": "stdout",
          "text": [
            "[1 2 3 4 5]\n",
            "15\n",
            "[5 6 7 8 9]\n",
            "35\n",
            "[10 11 12 13 14]\n",
            "60\n",
            "[15 16 17 18 19]\n",
            "85\n"
          ]
        }
      ]
    },
    {
      "cell_type": "code",
      "source": [
        "for row in arr:\n",
        "  print(row)\n",
        "  print(row.min())"
      ],
      "metadata": {
        "colab": {
          "base_uri": "https://localhost:8080/"
        },
        "id": "l8Cyz4ybGBpA",
        "outputId": "e3ea0b9a-5001-4208-9888-8578717fac44"
      },
      "execution_count": 45,
      "outputs": [
        {
          "output_type": "stream",
          "name": "stdout",
          "text": [
            "[1 2 3 4 5]\n",
            "1\n",
            "[5 6 7 8 9]\n",
            "5\n",
            "[10 11 12 13 14]\n",
            "10\n",
            "[15 16 17 18 19]\n",
            "15\n"
          ]
        }
      ]
    },
    {
      "cell_type": "code",
      "source": [
        "for row in arr:\n",
        "  print(row)\n",
        "  print(row.mean())"
      ],
      "metadata": {
        "colab": {
          "base_uri": "https://localhost:8080/"
        },
        "id": "FtZq98AiGMpB",
        "outputId": "66802164-94b6-475e-d52c-8ef20ab2c4cb"
      },
      "execution_count": 43,
      "outputs": [
        {
          "output_type": "stream",
          "name": "stdout",
          "text": [
            "[1 2 3 4 5]\n",
            "3.0\n",
            "[5 6 7 8 9]\n",
            "7.0\n",
            "[10 11 12 13 14]\n",
            "12.0\n",
            "[15 16 17 18 19]\n",
            "17.0\n"
          ]
        }
      ]
    },
    {
      "cell_type": "code",
      "source": [
        "for row in arr:\n",
        "  print(row)\n",
        "  print(row.std())"
      ],
      "metadata": {
        "colab": {
          "base_uri": "https://localhost:8080/"
        },
        "id": "lCjBN6XGGSyV",
        "outputId": "7d46e8f3-ba32-4537-fa5a-7c2a7168fefd"
      },
      "execution_count": 44,
      "outputs": [
        {
          "output_type": "stream",
          "name": "stdout",
          "text": [
            "[1 2 3 4 5]\n",
            "1.4142135623730951\n",
            "[5 6 7 8 9]\n",
            "1.4142135623730951\n",
            "[10 11 12 13 14]\n",
            "1.4142135623730951\n",
            "[15 16 17 18 19]\n",
            "1.4142135623730951\n"
          ]
        }
      ]
    },
    {
      "cell_type": "code",
      "source": [
        "for row in arr:\n",
        "  print(row)\n",
        "  print(row.sum())"
      ],
      "metadata": {
        "colab": {
          "base_uri": "https://localhost:8080/"
        },
        "id": "0rkllQRNGZJZ",
        "outputId": "5238e9d3-db18-4fe3-9b01-c0660bfa947d"
      },
      "execution_count": 46,
      "outputs": [
        {
          "output_type": "stream",
          "name": "stdout",
          "text": [
            "[1 2 3 4 5]\n",
            "15\n",
            "[5 6 7 8 9]\n",
            "35\n",
            "[10 11 12 13 14]\n",
            "60\n",
            "[15 16 17 18 19]\n",
            "85\n"
          ]
        }
      ]
    },
    {
      "cell_type": "code",
      "source": [
        "for column in arr:\n",
        "  print(column)\n",
        "  print(column.sum())"
      ],
      "metadata": {
        "colab": {
          "base_uri": "https://localhost:8080/"
        },
        "id": "ep8p9cHQGx2R",
        "outputId": "7e47dfe5-cf57-438e-99f4-dbb5a84e9b13"
      },
      "execution_count": 47,
      "outputs": [
        {
          "output_type": "stream",
          "name": "stdout",
          "text": [
            "[ 1  5 10 15]\n",
            "31\n",
            "[ 2  6 11 16]\n",
            "35\n",
            "[ 3  7 12 17]\n",
            "39\n",
            "[ 4  8 13 18]\n",
            "43\n",
            "[ 5  9 14 19]\n",
            "47\n"
          ]
        }
      ]
    },
    {
      "cell_type": "code",
      "source": [
        "for column in arr:\n",
        "  print(column)\n",
        "  print(column.min())"
      ],
      "metadata": {
        "colab": {
          "base_uri": "https://localhost:8080/"
        },
        "id": "2B5dOqpQG1Xo",
        "outputId": "dce787c4-484b-46cb-bb4f-395a2bd8be09"
      },
      "execution_count": 49,
      "outputs": [
        {
          "output_type": "stream",
          "name": "stdout",
          "text": [
            "[1 2 3 4 5]\n",
            "1\n",
            "[5 6 7 8 9]\n",
            "5\n",
            "[10 11 12 13 14]\n",
            "10\n",
            "[15 16 17 18 19]\n",
            "15\n"
          ]
        }
      ]
    },
    {
      "cell_type": "code",
      "source": [
        "for column in arr:\n",
        "  print(column)\n",
        "  print(column.mean())"
      ],
      "metadata": {
        "colab": {
          "base_uri": "https://localhost:8080/"
        },
        "id": "OLq66O5OG5NR",
        "outputId": "245d88c7-1ccf-4237-fbe2-644bff39ff99"
      },
      "execution_count": 50,
      "outputs": [
        {
          "output_type": "stream",
          "name": "stdout",
          "text": [
            "[1 2 3 4 5]\n",
            "3.0\n",
            "[5 6 7 8 9]\n",
            "7.0\n",
            "[10 11 12 13 14]\n",
            "12.0\n",
            "[15 16 17 18 19]\n",
            "17.0\n"
          ]
        }
      ]
    },
    {
      "cell_type": "code",
      "source": [
        "for column in arr:\n",
        "  print(column)\n",
        "  print(column.max())"
      ],
      "metadata": {
        "colab": {
          "base_uri": "https://localhost:8080/"
        },
        "id": "nqVgQCMXHBDO",
        "outputId": "181140ef-203a-44fd-8827-8b2e85f7d6f5"
      },
      "execution_count": 56,
      "outputs": [
        {
          "output_type": "stream",
          "name": "stdout",
          "text": [
            "[1 2 3 4 5]\n",
            "5\n",
            "[5 6 7 8 9]\n",
            "9\n",
            "[10 11 12 13 14]\n",
            "14\n",
            "[15 16 17 18 19]\n",
            "19\n"
          ]
        }
      ]
    },
    {
      "cell_type": "code",
      "source": [
        "row_sums=np.sum(arr,axis=1)\n",
        "print(row_sums)"
      ],
      "metadata": {
        "colab": {
          "base_uri": "https://localhost:8080/"
        },
        "id": "kHNPE6q8IR1H",
        "outputId": "71b9529f-fe0b-4cba-cad7-6241ac702fbf"
      },
      "execution_count": 57,
      "outputs": [
        {
          "output_type": "stream",
          "name": "stdout",
          "text": [
            "[15 35 60 85]\n"
          ]
        }
      ]
    },
    {
      "cell_type": "code",
      "source": [
        "row_min=np.min(arr,axis=1)\n",
        "print(row_min)"
      ],
      "metadata": {
        "colab": {
          "base_uri": "https://localhost:8080/"
        },
        "id": "_21NiN3FIe4p",
        "outputId": "98f0b701-dc55-42e5-ddfc-0294b5e9bbf9"
      },
      "execution_count": 58,
      "outputs": [
        {
          "output_type": "stream",
          "name": "stdout",
          "text": [
            "[ 1  5 10 15]\n"
          ]
        }
      ]
    }
  ]
}